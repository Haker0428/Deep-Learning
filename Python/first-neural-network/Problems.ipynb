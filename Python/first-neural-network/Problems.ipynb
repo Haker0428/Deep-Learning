{
 "cells": [
  {
   "cell_type": "markdown",
   "metadata": {
    "collapsed": true
   },
   "source": [
    "# My Problem"
   ]
  },
  {
   "cell_type": "markdown",
   "metadata": {},
   "source": [
    "关于在构建神经网络的时候，在反向传播的时候，在维数的处理让我有点儿晕。我把项目里的测试的代码提取出来进行了测试，\n",
    "在计算hidden_error的时候，我参考后边的情感分析的代码进行了比较，发现用了dot的乘法，而我一开始做项目的时候使用的是\\*乘法，导致后边运算的时候始终矩阵不匹配\n",
    "1. 请问为什么在这里要使用dot乘法，按照数学公式推导出来输出应该是个值是个标量，而在这里需要得到的为什么是个一维的矩阵"
   ]
  },
  {
   "cell_type": "code",
   "execution_count": 7,
   "metadata": {},
   "outputs": [
    {
     "name": "stdout",
     "output_type": "stream",
     "text": [
      "[ 0.5 -0.2  0.1]\n",
      "[[ 0.5]\n",
      " [-0.2]\n",
      " [ 0.1]]\n",
      "hidden_inputs:[-0.06 -0.18]\n",
      "hidden_outputs:[ 0.4850045   0.45512111]\n",
      "hidden_outputs:[ 0.09998924]\n",
      "final_outputs:[ 0.09998924]\n",
      "error:[ 0.30001076]\n",
      "lr:0.5\n",
      "hidden_error:[ 0.09000323 -0.03000108]\n",
      "hidden_error*hidden_outputs:[ 0.04365197 -0.01365412]\n",
      "np.dot(hidden_error,hidden_outputs:0.02999784763450253\n",
      "hidden_error*hidden_outputs*(1-hidden_outputs):[ 0.02248057 -0.00743984]\n",
      "np.dot(hidden_error,hidden_outputs*(1-hidden_outputs):[ 0.01544876  0.01634519]\n",
      "output_error_term.shape:(1,)\n",
      "output_error_term.shape[:, None]:(1, 1)\n",
      "hidden_outputs.shape:(2,)\n",
      "hidden_outputs.shape[:, None]:(2, 1)\n",
      "delta_weights_h_o[[ 0.07275328]\n",
      " [ 0.06827061]]\n",
      "delta_weights_h_o.shape:(2, 1)\n",
      "test_w_h_o.shape:(2, 1)\n",
      "n_records:1\n"
     ]
    }
   ],
   "source": [
    "import numpy as np\n",
    "inputs = np.array([[0.5, -0.2, 0.1]])\n",
    "targets = np.array([[0.4]])\n",
    "test_w_i_h = np.array([[0.1, -0.2],\n",
    "                       [0.4, 0.5],\n",
    "                       [-0.3, 0.2]])\n",
    "test_w_h_o = np.array([[0.3],\n",
    "                       [-0.1]])\n",
    "lr=0.5\n",
    "input_nodes = 3\n",
    "hidden_nodes = 2\n",
    "output_nodes = 1\n",
    "weights_input_to_hidden = test_w_i_h\n",
    "\n",
    "weights_hidden_to_output = test_w_h_o\n",
    "n_records = inputs.shape[0]\n",
    "activation_function = lambda x : 1 /(1+np.exp(-x))\n",
    "delta_weights_i_h = np.zeros(weights_input_to_hidden.shape)\n",
    "delta_weights_h_o = np.zeros(weights_hidden_to_output.shape)\n",
    "for X, y in zip(inputs, targets):\n",
    "            #### Implement the forward pass here ####\n",
    "            ### Forward pass ###\n",
    "            # TODO: Hidden layer - Replace these values with your calculations.\n",
    "        print(X) \n",
    "        c=X[:,None]\n",
    "        print(c) \n",
    "        hidden_inputs = X.dot(weights_input_to_hidden) # signals into hidden layer\n",
    "        hidden_outputs = activation_function(hidden_inputs) # signals from hidden layer 1*4\n",
    "        print(\"hidden_inputs:{}\".format(hidden_inputs))\n",
    "        print(\"hidden_outputs:{}\".format(hidden_outputs))\n",
    "            # TODO: Output layer - Replace these values with your calculations.\n",
    "        final_inputs = np.dot(hidden_outputs,weights_hidden_to_output) # signals into final output layer 1*1\n",
    "        final_outputs = final_inputs # signals from final output layer\n",
    "        print(\"hidden_outputs:{}\".format(final_inputs)) \n",
    "        print(\"final_outputs:{}\".format(final_outputs)) \n",
    "            #### Implement the backward pass here ####\n",
    "            ### Backward pass ###\n",
    "                \n",
    "        \n",
    "            # TODO: Output error - Replace this value with your calculations.\n",
    "        error = y-final_outputs # Output layer error is the difference between desired target and actual output.\n",
    "        print(\"error:{}\".format(error))     \n",
    "        print(\"lr:{}\".format(lr))    \n",
    "            # TODO: Calculate the hidden layer's contribution to the error\n",
    "        #此时error不是标量，而仍是一个一维的矩阵,若使用*法，则两个一维的向量就将会拼接为二维\n",
    "        hidden_error = weights_hidden_to_output.dot(error)\n",
    "        print(\"hidden_error:{}\".format(hidden_error))    \n",
    "            #print (error.shape)\n",
    "            # TODO: Backpropagated error terms - Replace these values with your calculations.\n",
    "        output_error_term = error\n",
    "        \n",
    "        #为何直接可以用*\n",
    "        hidden_error_term = hidden_error*hidden_outputs*(1-hidden_outputs)\n",
    "        print(\"hidden_error*hidden_outputs:{}\".format(hidden_error*hidden_outputs)) \n",
    "        print(\"np.dot(hidden_error,hidden_outputs:{}\".format(np.dot(hidden_error,hidden_outputs))) \n",
    "        print(\"hidden_error*hidden_outputs*(1-hidden_outputs):{}\".format(hidden_error*hidden_outputs*(1-hidden_outputs))) \n",
    "        print(\"np.dot(hidden_error,hidden_outputs*(1-hidden_outputs):{}\".format(np.dot(hidden_error,hidden_outputs)*(1-hidden_outputs))) \n",
    "            # Weight step (input to hidden)\n",
    "        delta_weights_i_h += lr*hidden_error_term*X[:,None]\n",
    "\n",
    "            # Weight step (hidden to output)\n",
    "        delta_weights_h_o += lr*hidden_outputs[:, None] * output_error_term\n",
    "        print(\"output_error_term.shape:{}\".format(output_error_term.shape))\n",
    "        print(\"output_error_term.shape[:, None]:{}\".format(output_error_term[:, None].shape))\n",
    "        print(\"hidden_outputs.shape:{}\".format(hidden_outputs.shape))\n",
    "        print(\"hidden_outputs.shape[:, None]:{}\".format(hidden_outputs[:, None].shape))\n",
    "        print(\"delta_weights_h_o{}\".format(delta_weights_h_o))\n",
    "        print(\"delta_weights_h_o.shape:{}\".format(delta_weights_h_o.shape))\n",
    "        print(\"test_w_h_o.shape:{}\".format(test_w_h_o.shape))\n",
    "        print(\"n_records:{}\".format(n_records)) \n",
    "        # TODO: Update the weights - Replace these values with your calculations.\n",
    "weights_hidden_to_output += delta_weights_h_o/n_records # update hidden-to-output weights with gradient descent step\n",
    "weights_input_to_hidden += delta_weights_i_h/n_records # update input-to-hidden weights with gradient descent step"
   ]
  },
  {
   "cell_type": "markdown",
   "metadata": {},
   "source": [
    "2. 根据上边的算法测试，我观察了hidden_error_term的推导过程中，设计到了三个向量的乘法，而在这里的计算过程中，观察使用\n",
    "```\n",
    "hidden_error*hidden_outputs*(1-hidden_outputs)\n",
    "```\n",
    "使用的是三个元素对应相乘，这就是让我混淆该什么时候使用\\*乘法，什么时候该使用dot ，这是我的第二个问题"
   ]
  },
  {
   "cell_type": "markdown",
   "metadata": {},
   "source": [
    "2. 我的第三个问题是：hidden_error_term我使用\n",
    "```\n",
    "hidden_error*hidden_outputs*(1-hidden_outputs)\n",
    "```\n",
    "或者\n",
    "```np.dot(hidden_error,hidden_outputs*(1-hidden_outputs)```\n",
    "\n",
    "\n",
    "算出来的hidden_error_term是不等的 但是最后运算出来的weights_hidden_to_output和weights_input_to_hidden却相同 这是为什么呢"
   ]
  },
  {
   "cell_type": "code",
   "execution_count": 11,
   "metadata": {},
   "outputs": [
    {
     "data": {
      "text/plain": [
       "array([[ 0.37275328],\n",
       "       [-0.03172939]])"
      ]
     },
     "execution_count": 11,
     "metadata": {},
     "output_type": "execute_result"
    }
   ],
   "source": [
    "weights_hidden_to_output"
   ]
  },
  {
   "cell_type": "code",
   "execution_count": 12,
   "metadata": {},
   "outputs": [
    {
     "data": {
      "text/plain": [
       "array([[ 0.10562014, -0.20185996],\n",
       "       [ 0.39775194,  0.50074398],\n",
       "       [-0.29887597,  0.19962801]])"
      ]
     },
     "execution_count": 12,
     "metadata": {},
     "output_type": "execute_result"
    }
   ],
   "source": [
    "weights_input_to_hidden"
   ]
  },
  {
   "cell_type": "code",
   "execution_count": null,
   "metadata": {},
   "outputs": [],
   "source": []
  },
  {
   "cell_type": "code",
   "execution_count": null,
   "metadata": {
    "collapsed": true
   },
   "outputs": [],
   "source": []
  },
  {
   "cell_type": "code",
   "execution_count": null,
   "metadata": {
    "collapsed": true
   },
   "outputs": [],
   "source": []
  }
 ],
 "metadata": {
  "kernelspec": {
   "display_name": "Python 3",
   "language": "python",
   "name": "python3"
  },
  "language_info": {
   "codemirror_mode": {
    "name": "ipython",
    "version": 3
   },
   "file_extension": ".py",
   "mimetype": "text/x-python",
   "name": "python",
   "nbconvert_exporter": "python",
   "pygments_lexer": "ipython3",
   "version": "3.5.4"
  }
 },
 "nbformat": 4,
 "nbformat_minor": 2
}
